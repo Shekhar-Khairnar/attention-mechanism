{
 "cells": [
  {
   "cell_type": "code",
   "execution_count": 1,
   "metadata": {},
   "outputs": [],
   "source": [
    "import torch\n",
    "import torch.nn as nn\n",
    "import torch.nn.functional as F"
   ]
  },
  {
   "cell_type": "code",
   "execution_count": 3,
   "metadata": {},
   "outputs": [
    {
     "data": {
      "text/plain": [
       "tensor([[False,  True,  True],\n",
       "        [False, False,  True],\n",
       "        [False, False, False]])"
      ]
     },
     "execution_count": 3,
     "metadata": {},
     "output_type": "execute_result"
    }
   ],
   "source": [
    "class MaskedSelfAttention(nn.Module):\n",
    "    def __init__(self,d_model=2,\n",
    "                 row_dim=0,\n",
    "                 col_dim=1):\n",
    "        \n",
    "        super().__init__()\n",
    "\n",
    "        self.W_q = nn.Linear(in_features = d_model,\n",
    "                             out_features=d_model,\n",
    "                             bias=False)\n",
    "        \n",
    "        self.W_k = nn.Linear(in_features = d_model,\n",
    "                             out_features=d_model,\n",
    "                             bias=False)\n",
    "        \n",
    "        self.W_v = nn.Linear(in_features = d_model,\n",
    "                             out_features=d_model,\n",
    "                             bias=False)\n",
    "        \n",
    "        self.row_dim = row_dim\n",
    "        self.col_dim = col_dim\n",
    "\n",
    "    def forward(self, token_encodings,mask=None):\n",
    "\n",
    "        q = self.W_q(token_encodings)\n",
    "        k = self.W_k(token_encodings)\n",
    "        v = self.W_v(token_encodings)\n",
    "\n",
    "        sims = torch.matmul(q,k.transpose(dim0 = self.row_dim,\n",
    "                                          dim1 = self.col_dim))\n",
    "        \n",
    "        scaled_sims = sims / torch.tensor(k.size(self.col_dim)**0.5)\n",
    "\n",
    "        if mask is not None:\n",
    "            scaled_sims = scaled_sims.masked_fill(mask=mask,\n",
    "                                                  value = -1e9)\n",
    "            \n",
    "        attention_percents = F.softmax(scaled_sims,dim=self.col_dim)\n",
    "        attention_Scores = torch.matmul(attention_percents,v)\n",
    "\n",
    "        return attention_Scores\n",
    "            \n",
    "\n",
    "\n",
    "encodings_matrix = torch.tensor([[1.16,0.23],\n",
    "                                 [0.57,1.36],\n",
    "                                 [4.41,-2.16]])\n",
    "\n",
    "\n",
    "torch.manual_seed(42)\n",
    "\n",
    "maskedSelfAttention = MaskedSelfAttention(d_model=2,\n",
    "                                          row_dim=0,\n",
    "                                          col_dim=1)\n",
    "mask = torch.tril(torch.ones(3,3))\n",
    "\n",
    "#tril turns the uper tyriangle in 3x3 matric to 0 and leaves lower to 1\n",
    "\n",
    "mask = mask == 0\n",
    "mask"
   ]
  },
  {
   "cell_type": "code",
   "execution_count": 4,
   "metadata": {},
   "outputs": [
    {
     "data": {
      "text/plain": [
       "tensor([[ 0.6038,  0.7434],\n",
       "        [-0.0062,  0.6072],\n",
       "        [ 3.4989,  2.2427]], grad_fn=<MmBackward0>)"
      ]
     },
     "execution_count": 4,
     "metadata": {},
     "output_type": "execute_result"
    }
   ],
   "source": [
    "maskedSelfAttention(encodings_matrix,mask)"
   ]
  },
  {
   "cell_type": "code",
   "execution_count": null,
   "metadata": {},
   "outputs": [],
   "source": []
  }
 ],
 "metadata": {
  "kernelspec": {
   "display_name": "Python 3",
   "language": "python",
   "name": "python3"
  },
  "language_info": {
   "codemirror_mode": {
    "name": "ipython",
    "version": 3
   },
   "file_extension": ".py",
   "mimetype": "text/x-python",
   "name": "python",
   "nbconvert_exporter": "python",
   "pygments_lexer": "ipython3",
   "version": "3.12.4"
  }
 },
 "nbformat": 4,
 "nbformat_minor": 2
}

{
 "cells": [
  {
   "cell_type": "code",
   "execution_count": 7,
   "metadata": {},
   "outputs": [],
   "source": [
    "import torch\n",
    "import torch.nn as nn\n",
    "import torch.nn.functional as F\n"
   ]
  },
  {
   "cell_type": "code",
   "execution_count": 10,
   "metadata": {},
   "outputs": [],
   "source": [
    "class Attention(nn.Module):\n",
    "\n",
    "    def __init__(self,d_model=2,\n",
    "                 row_dim=0,\n",
    "                 col_dim=1):\n",
    "        \n",
    "        super().__init__()\n",
    "\n",
    "        self.W_q = nn.Linear(in_features = d_model,\n",
    "                             out_features=d_model,\n",
    "                             bias=False)\n",
    "        \n",
    "        self.W_k = nn.Linear(in_features = d_model,\n",
    "                             out_features=d_model,\n",
    "                             bias=False)\n",
    "        \n",
    "        self.W_v = nn.Linear(in_features = d_model,\n",
    "                             out_features=d_model,\n",
    "                             bias=False)\n",
    "        \n",
    "        self.row_dim = row_dim\n",
    "        self.col_dim = col_dim\n",
    "\n",
    "    def forward(self,\n",
    "                encodings_for_q,\n",
    "                encodings_for_k,\n",
    "                encodings_for_v,\n",
    "                mask=None):\n",
    "        \n",
    "        q = self.W_q(encodings_for_q)\n",
    "        k = self.W_k(encodings_for_k)\n",
    "        v = self.W_v(encodings_for_v)\n",
    "\n",
    "        sims = torch.matmul(q,k.transpose(dim0=self.row_dim,\n",
    "                                            dim1=self.col_dim))\n",
    "\n",
    "        scaled_sims = sims / torch.tensor(k.size(self.col_dim)**0.5)\n",
    "\n",
    "        if mask is not None:\n",
    "            scaled_sims = scaled_sims.masked_fill(mask=mask,\n",
    "                                                    value=-1e9)\n",
    "\n",
    "\n",
    "        attention_percents = F.softmax(scaled_sims,dim=self.col_dim)\n",
    "        attention_scores = torch.matmul(attention_percents,v)\n",
    "\n",
    "        return attention_scores            \n",
    "\n"
   ]
  },
  {
   "cell_type": "code",
   "execution_count": 13,
   "metadata": {},
   "outputs": [
    {
     "data": {
      "text/plain": [
       "tensor([[1.0100, 1.0641],\n",
       "        [0.2040, 0.7057],\n",
       "        [3.4989, 2.2427]], grad_fn=<MmBackward0>)"
      ]
     },
     "execution_count": 13,
     "metadata": {},
     "output_type": "execute_result"
    }
   ],
   "source": [
    "encodings_for_q = torch.tensor([[1.16,0.23],\n",
    "                                 [0.57,1.36],\n",
    "                                 [4.41,-2.16]])\n",
    "\n",
    "encodings_for_k = torch.tensor([[1.16,0.23],\n",
    "                                 [0.57,1.36],\n",
    "                                 [4.41,-2.16]])\n",
    "\n",
    "encodings_for_v = torch.tensor([[1.16,0.23],\n",
    "                                 [0.57,1.36],\n",
    "                                 [4.41,-2.16]])\n",
    "\n",
    "torch.manual_seed(42)\n",
    "\n",
    "attention = Attention(d_model=2,row_dim=0,col_dim=1)\n",
    "attention(encodings_for_q,\n",
    "          encodings_for_k,\n",
    "          encodings_for_v)"
   ]
  },
  {
   "cell_type": "code",
   "execution_count": 14,
   "metadata": {},
   "outputs": [
    {
     "data": {
      "text/plain": [
       "tensor([[1.0100, 1.0641],\n",
       "        [0.2040, 0.7057],\n",
       "        [3.4989, 2.2427]], grad_fn=<CatBackward0>)"
      ]
     },
     "execution_count": 14,
     "metadata": {},
     "output_type": "execute_result"
    }
   ],
   "source": [
    "class MultiHeadAttention(nn.Module):\n",
    "\n",
    "    def __init__(self,\n",
    "                 d_model=2,\n",
    "                 row_dim=0,\n",
    "                 col_dim=1,\n",
    "                 num_heads=1):\n",
    "        \n",
    "        super().__init__()\n",
    "\n",
    "        self.heads = nn.ModuleList(\n",
    "            Attention(d_model,row_dim,col_dim) for _ in range(num_heads))\n",
    "        \n",
    "        self.col_dim = col_dim\n",
    "\n",
    "    def forward(self,\n",
    "                encodings_for_q,\n",
    "                encodings_for_k,\n",
    "                encodings_for_v):\n",
    "        \n",
    "        return torch.cat([head(encodings_for_q,\n",
    "                               encodings_for_k,\n",
    "                               encodings_for_v) for head in self.heads], \n",
    "                               dim=self.col_dim)\n",
    "    \n",
    "\n",
    "torch.manual_seed(42)\n",
    "\n",
    "multiheadattention = MultiHeadAttention(d_model=2,\n",
    "                                        row_dim=0,\n",
    "                                        col_dim=1,\n",
    "                                        num_heads=1)\n",
    "\n",
    "\n",
    "multiheadattention(encodings_for_q,\n",
    "                   encodings_for_k,\n",
    "                   encodings_for_v)\n",
    "\n",
    "\n",
    "\n",
    "\n",
    "\n",
    "\n",
    "\n",
    "                                        "
   ]
  },
  {
   "cell_type": "code",
   "execution_count": 15,
   "metadata": {},
   "outputs": [
    {
     "data": {
      "text/plain": [
       "tensor([[ 1.0100,  1.0641, -0.7081, -0.8268],\n",
       "        [ 0.2040,  0.7057, -0.7417, -0.9193],\n",
       "        [ 3.4989,  2.2427, -0.7190, -0.8447]], grad_fn=<CatBackward0>)"
      ]
     },
     "execution_count": 15,
     "metadata": {},
     "output_type": "execute_result"
    }
   ],
   "source": [
    "class MultiHeadAttention(nn.Module):\n",
    "\n",
    "    def __init__(self,\n",
    "                 d_model=2,\n",
    "                 row_dim=0,\n",
    "                 col_dim=1,\n",
    "                 num_heads=1):\n",
    "        \n",
    "        super().__init__()\n",
    "\n",
    "        self.heads = nn.ModuleList(\n",
    "            Attention(d_model,row_dim,col_dim) for _ in range(num_heads))\n",
    "        \n",
    "        self.col_dim = col_dim\n",
    "\n",
    "    def forward(self,\n",
    "                encodings_for_q,\n",
    "                encodings_for_k,\n",
    "                encodings_for_v):\n",
    "        \n",
    "        return torch.cat([head(encodings_for_q,\n",
    "                               encodings_for_k,\n",
    "                               encodings_for_v) for head in self.heads], \n",
    "                               dim=self.col_dim)\n",
    "    \n",
    "\n",
    "torch.manual_seed(42)\n",
    "\n",
    "multiheadattention = MultiHeadAttention(d_model=2,\n",
    "                                        row_dim=0,\n",
    "                                        col_dim=1,\n",
    "                                        num_heads=2)\n",
    "\n",
    "\n",
    "multiheadattention(encodings_for_q,\n",
    "                   encodings_for_k,\n",
    "                   encodings_for_v)\n",
    "\n",
    "\n",
    "\n",
    "\n",
    "\n",
    "\n",
    "\n",
    "                                        "
   ]
  },
  {
   "cell_type": "code",
   "execution_count": null,
   "metadata": {},
   "outputs": [],
   "source": []
  }
 ],
 "metadata": {
  "kernelspec": {
   "display_name": "Python 3",
   "language": "python",
   "name": "python3"
  },
  "language_info": {
   "codemirror_mode": {
    "name": "ipython",
    "version": 3
   },
   "file_extension": ".py",
   "mimetype": "text/x-python",
   "name": "python",
   "nbconvert_exporter": "python",
   "pygments_lexer": "ipython3",
   "version": "3.10.16"
  }
 },
 "nbformat": 4,
 "nbformat_minor": 2
}
